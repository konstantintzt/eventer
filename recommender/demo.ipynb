{
 "cells": [
  {
   "attachments": {},
   "cell_type": "markdown",
   "metadata": {},
   "source": [
    "## The recommender can be called in two ways:\n",
    "\n",
    "- By importing get_scores from utils.py.\n",
    "- By booting up a flask server via recommender_server.py and sending requests to it (recommended if you're planning on sending frequent calls to get_scores)."
   ]
  },
  {
   "attachments": {},
   "cell_type": "markdown",
   "metadata": {},
   "source": [
    "### Method 1: utils.py"
   ]
  },
  {
   "cell_type": "code",
   "execution_count": 5,
   "metadata": {},
   "outputs": [
    {
     "data": {
      "application/vnd.jupyter.widget-view+json": {
       "model_id": "ca1580f585034a2bb8b87a451d1f9685",
       "version_major": 2,
       "version_minor": 0
      },
      "text/plain": [
       "Downloading (…)dc709/.gitattributes:   0%|          | 0.00/690 [00:00<?, ?B/s]"
      ]
     },
     "metadata": {},
     "output_type": "display_data"
    },
    {
     "data": {
      "application/vnd.jupyter.widget-view+json": {
       "model_id": "71ea0fd784d94a16b8be130cac367345",
       "version_major": 2,
       "version_minor": 0
      },
      "text/plain": [
       "Downloading pytorch_model.bin:   0%|          | 0.00/480M [00:00<?, ?B/s]"
      ]
     },
     "metadata": {},
     "output_type": "display_data"
    },
    {
     "data": {
      "application/vnd.jupyter.widget-view+json": {
       "model_id": "0d945f24836c415a8b4a0ad04e410945",
       "version_major": 2,
       "version_minor": 0
      },
      "text/plain": [
       "Downloading (…)okenizer_config.json:   0%|          | 0.00/4.61M [00:00<?, ?B/s]"
      ]
     },
     "metadata": {},
     "output_type": "display_data"
    },
    {
     "data": {
      "application/vnd.jupyter.widget-view+json": {
       "model_id": "06134436136045d7928a271e00b3265e",
       "version_major": 2,
       "version_minor": 0
      },
      "text/plain": [
       "Downloading (…)mbedding_config.json:   0%|          | 0.00/164 [00:00<?, ?B/s]"
      ]
     },
     "metadata": {},
     "output_type": "display_data"
    },
    {
     "data": {
      "application/vnd.jupyter.widget-view+json": {
       "model_id": "43a98745e7724c679892513dbed8e35a",
       "version_major": 2,
       "version_minor": 0
      },
      "text/plain": [
       "Downloading (…)_Pooling/config.json:   0%|          | 0.00/190 [00:00<?, ?B/s]"
      ]
     },
     "metadata": {},
     "output_type": "display_data"
    },
    {
     "data": {
      "application/vnd.jupyter.widget-view+json": {
       "model_id": "c730a53d03b64d578d948829ba032b0f",
       "version_major": 2,
       "version_minor": 0
      },
      "text/plain": [
       "Downloading (…)8744edc709/README.md:   0%|          | 0.00/2.15k [00:00<?, ?B/s]"
      ]
     },
     "metadata": {},
     "output_type": "display_data"
    },
    {
     "data": {
      "application/vnd.jupyter.widget-view+json": {
       "model_id": "c3e3449a6076437f996b047fc7c369a9",
       "version_major": 2,
       "version_minor": 0
      },
      "text/plain": [
       "Downloading (…)ce_transformers.json:   0%|          | 0.00/122 [00:00<?, ?B/s]"
      ]
     },
     "metadata": {},
     "output_type": "display_data"
    },
    {
     "data": {
      "application/vnd.jupyter.widget-view+json": {
       "model_id": "87b25e271b3a42d997fb97c5f425ae26",
       "version_major": 2,
       "version_minor": 0
      },
      "text/plain": [
       "Downloading (…)4edc709/modules.json:   0%|          | 0.00/248 [00:00<?, ?B/s]"
      ]
     },
     "metadata": {},
     "output_type": "display_data"
    }
   ],
   "source": [
    "# Getting scores from utils.py\n",
    "from sentence_transformers import SentenceTransformer\n",
    "#model = SentenceTransformer('all-MiniLM-L6-v2')\n",
    "model = SentenceTransformer('average_word_embeddings_glove.6B.300d')\n",
    "\n",
    "from utils import get_location, compare, get_scores"
   ]
  },
  {
   "attachments": {},
   "cell_type": "markdown",
   "metadata": {},
   "source": [
    "#### Sample Events & Scoring"
   ]
  },
  {
   "cell_type": "code",
   "execution_count": 8,
   "metadata": {},
   "outputs": [],
   "source": [
    "def get_sample_events():\n",
    "    attended_events = [{\"date\": 1685476378,\n",
    "    \"organizer\": \"Weed Wade\",\n",
    "    \"zip_code\": \"90024\",\n",
    "    \"uuid\": \"1234\",\n",
    "    \"description\": \"The best concert ever\",\n",
    "    \"title\": \"Westwood Concert\",\n",
    "    \"type\": 1},\n",
    "    {\"date\": 1685821978,\n",
    "    \"organizer\": \"Joe Bruin\",\n",
    "    \"zip_code\": \"90066\",\n",
    "    \"uuid\": \"3000\",\n",
    "    \"description\": \"A massive party to celebrate the end of the midterm season.\",\n",
    "    \"title\": \"UCLA Midterm Party\",\n",
    "    \"type\": 5}]\n",
    "\n",
    "    available_events = [{\"date\": 1685562778,\n",
    "    \"organizer\": \"Sally Smith\",\n",
    "    \"zip_code\": \"90210\",\n",
    "    \"uuid\": \"5678\",\n",
    "    \"description\": \"A fun-filled day of games and activities\",\n",
    "    \"title\": \"Beverly Hills Family Fun Day\",\n",
    "    \"type\": 5},\n",
    "    {\"date\": 1695562778,\n",
    "    \"organizer\": \"Konstantin Tzantchev\",\n",
    "    \"zip_code\": \"90024\",\n",
    "    \"uuid\": \"6543\",\n",
    "    \"description\": \"An intense CS35L Study session.\",\n",
    "    \"title\": \"CS35L Final Prep\",\n",
    "    \"type\": 2},\n",
    "    {\"date\": 1685649178,\n",
    "    \"organizer\": \"John Doe\",\n",
    "    \"zip_code\": \"90046\",\n",
    "    \"uuid\": \"9101\",\n",
    "    \"description\": \"A night of laughter and entertainment\",\n",
    "    \"title\": \"Hollywood Comedy Night\",\n",
    "    \"type\": 3},\n",
    "    {\"date\": 1685735578,\n",
    "    \"organizer\": \"Jane Johnson\",\n",
    "    \"zip_code\": \"90028\",\n",
    "    \"uuid\": \"1121\",\n",
    "    \"description\": \"A gathering of local artists and their work\",\n",
    "    \"title\": \"Downtown Art Walk\",\n",
    "    \"type\": 2},\n",
    "    {\"date\": 1685821978,\n",
    "    \"organizer\": \"Mike Miller\",\n",
    "    \"zip_code\": \"90066\",\n",
    "    \"uuid\": \"3141\",\n",
    "    \"description\": \"A charity event to raise funds for a local cause\",\n",
    "    \"title\": \"Mar Vista Charity Gala\",\n",
    "    \"type\": 5},\n",
    "    {\"date\": 1685821978,\n",
    "    \"organizer\": \"Honduras Hernandez\",\n",
    "    \"zip_code\": \"90066\",\n",
    "    \"uuid\": \"5002\",\n",
    "    \"description\": \"A music festival to ring in the new year.\",\n",
    "    \"title\": \"New Year's Jazz Festival\",\n",
    "    \"type\": 1},\n",
    "    ]\n",
    "\n",
    "    return attended_events, available_events"
   ]
  },
  {
   "cell_type": "code",
   "execution_count": 7,
   "metadata": {},
   "outputs": [
    {
     "name": "stdout",
     "output_type": "stream",
     "text": [
      "Time elapsed:  1.46\n"
     ]
    },
    {
     "data": {
      "text/plain": [
       "defaultdict(<function utils.get_scores.<locals>.<lambda>()>,\n",
       "            {'5678': 5.425409942865372,\n",
       "             '6543': 4.3671253975480795,\n",
       "             '9101': 4.9397998452186584,\n",
       "             '1121': 5.233138881623745,\n",
       "             '3141': 5.740661837160587,\n",
       "             '5002': 6.320272147655487})"
      ]
     },
     "execution_count": 7,
     "metadata": {},
     "output_type": "execute_result"
    }
   ],
   "source": [
    "import time\n",
    "starttime = time.time()\n",
    "scores = get_scores(model, *get_sample_events())\n",
    "print(\"Time elapsed: \", round(time.time() - starttime, 2))\n",
    "scores"
   ]
  },
  {
   "attachments": {},
   "cell_type": "markdown",
   "metadata": {},
   "source": [
    "### Method 2: recommender_server.py\n",
    "Before running this code, please run `python ./recommender_server.py` in the terminal. This will start the server on port 5000 (by default) or the port specified by the .env."
   ]
  },
  {
   "cell_type": "code",
   "execution_count": 30,
   "metadata": {},
   "outputs": [
    {
     "name": "stdout",
     "output_type": "stream",
     "text": [
      "Time elapsed:  3.09\n",
      "Artificial Intelligence Summit The MATS program aims to find and train talented individuals for what we see as the world’s most urgent and talent-constrained problem: reducing risks from unaligned artificial intelligence (AI). We believe that ambitious young researchers from a variety of backgrounds have the potential to meaningfully contribute to the field of alignment research. We aim to provide the training, logistics, and community necessary to aid this transition.\n",
      "ACM Artificial Intelligence AI Web3 Blockchain Quant AI\n",
      "Dislike button i wanna dislike konst bday party\n",
      "Weed Wade's Woke Veranda Smoke weed everyday!\n",
      "Konrtnstantin's birdday something\n",
      "testing testest\n",
      "test descritpion\n",
      "asdfad fasdfas\n"
     ]
    },
    {
     "data": {
      "text/plain": [
       "[None, None, None, None, None, None, None, None]"
      ]
     },
     "execution_count": 30,
     "metadata": {},
     "output_type": "execute_result"
    }
   ],
   "source": [
    "import requests\n",
    "import os\n",
    "from dotenv import load_dotenv\n",
    "load_dotenv(\"../server/.env\")\n",
    "\n",
    "PORT = os.getenv('ENGINE_PORT')\n",
    "url = 'http://127.0.0.1:'+str(PORT)+'/recommend'\n",
    "\n",
    "attended_events, available_events = get_sample_events()\n",
    "myobj = {'uuid': \"3dd8c276-32b7-431b-a497-4ecb45e79613\"}\n",
    "\n",
    "import time\n",
    "starttime = time.time()\n",
    "x = requests.post(url, json = myobj)\n",
    "print(\"Time elapsed: \", round(time.time() - starttime, 2))\n",
    "json = x.json()\n",
    "[print(i[\"title\"], i[\"description\"]) for i in json[\"ordered_events\"]]"
   ]
  }
 ],
 "metadata": {
  "kernelspec": {
   "display_name": "Python 3",
   "language": "python",
   "name": "python3"
  },
  "language_info": {
   "codemirror_mode": {
    "name": "ipython",
    "version": 3
   },
   "file_extension": ".py",
   "mimetype": "text/x-python",
   "name": "python",
   "nbconvert_exporter": "python",
   "pygments_lexer": "ipython3",
   "version": "3.10.4"
  },
  "orig_nbformat": 4
 },
 "nbformat": 4,
 "nbformat_minor": 2
}
