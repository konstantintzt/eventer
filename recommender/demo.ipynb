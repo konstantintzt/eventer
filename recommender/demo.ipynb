{
 "cells": [
  {
   "attachments": {},
   "cell_type": "markdown",
   "metadata": {},
   "source": [
    "## The recommender can be called in two ways:\n",
    "\n",
    "- By importing get_scores from utils.py.\n",
    "- By booting up a flask server via recommender_server.py and sending requests to it (recommended if you're planning on sending frequent calls to get_scores)."
   ]
  },
  {
   "attachments": {},
   "cell_type": "markdown",
   "metadata": {},
   "source": [
    "### Method 1: utils.py"
   ]
  },
  {
   "cell_type": "code",
   "execution_count": null,
   "metadata": {},
   "outputs": [],
   "source": [
    "# Getting scores from utils.py\n",
    "from sentence_transformers import SentenceTransformer\n",
    "model = SentenceTransformer('all-MiniLM-L6-v2')\n",
    "\n",
    "from utils import get_location, compare, get_scores"
   ]
  },
  {
   "attachments": {},
   "cell_type": "markdown",
   "metadata": {},
   "source": [
    "#### Sample Events & Scoring"
   ]
  },
  {
   "cell_type": "code",
   "execution_count": 1,
   "metadata": {},
   "outputs": [],
   "source": [
    "def get_sample_events():\n",
    "    attended_events = [{\"date\": 1685476378,\n",
    "    \"organizer\": \"Weed Wade\",\n",
    "    \"zip_code\": \"90024\",\n",
    "    \"uuid\": \"1234\",\n",
    "    \"description\": \"The best concert ever\",\n",
    "    \"title\": \"Westwood Concert\",\n",
    "    \"type\": 1},\n",
    "    {\"date\": 1685821978,\n",
    "    \"organizer\": \"Joe Bruin\",\n",
    "    \"zip_code\": \"90066\",\n",
    "    \"uuid\": \"3000\",\n",
    "    \"description\": \"A massive party to celebrate the end of the midterm season.\",\n",
    "    \"title\": \"UCLA Midterm Party\",\n",
    "    \"type\": 5}]\n",
    "\n",
    "    available_events = [{\"date\": 1685562778,\n",
    "    \"organizer\": \"Sally Smith\",\n",
    "    \"zip_code\": \"90210\",\n",
    "    \"uuid\": \"5678\",\n",
    "    \"description\": \"A fun-filled day of games and activities\",\n",
    "    \"title\": \"Beverly Hills Family Fun Day\",\n",
    "    \"type\": 5},\n",
    "    {\"date\": 1695562778,\n",
    "    \"organizer\": \"Konstantin Tzantchev\",\n",
    "    \"zip_code\": \"90024\",\n",
    "    \"uuid\": \"6543\",\n",
    "    \"description\": \"An intense CS35L Study session.\",\n",
    "    \"title\": \"CS35L Final Prep\",\n",
    "    \"type\": 2},\n",
    "    {\"date\": 1685649178,\n",
    "    \"organizer\": \"John Doe\",\n",
    "    \"zip_code\": \"90046\",\n",
    "    \"uuid\": \"9101\",\n",
    "    \"description\": \"A night of laughter and entertainment\",\n",
    "    \"title\": \"Hollywood Comedy Night\",\n",
    "    \"type\": 3},\n",
    "    {\"date\": 1685735578,\n",
    "    \"organizer\": \"Jane Johnson\",\n",
    "    \"zip_code\": \"90028\",\n",
    "    \"uuid\": \"1121\",\n",
    "    \"description\": \"A gathering of local artists and their work\",\n",
    "    \"title\": \"Downtown Art Walk\",\n",
    "    \"type\": 2},\n",
    "    {\"date\": 1685821978,\n",
    "    \"organizer\": \"Mike Miller\",\n",
    "    \"zip_code\": \"90066\",\n",
    "    \"uuid\": \"3141\",\n",
    "    \"description\": \"A charity event to raise funds for a local cause\",\n",
    "    \"title\": \"Mar Vista Charity Gala\",\n",
    "    \"type\": 5},\n",
    "    {\"date\": 1685821978,\n",
    "    \"organizer\": \"Honduras Hernandez\",\n",
    "    \"zip_code\": \"90066\",\n",
    "    \"uuid\": \"5002\",\n",
    "    \"description\": \"A music festival to ring in the new year.\",\n",
    "    \"title\": \"New Year's Jazz Festival\",\n",
    "    \"type\": 1},\n",
    "    ]\n",
    "\n",
    "    return attended_events, available_events"
   ]
  },
  {
   "cell_type": "code",
   "execution_count": 1,
   "metadata": {},
   "outputs": [
    {
     "name": "stdout",
     "output_type": "stream",
     "text": [
      "Time elapsed:  18.8\n"
     ]
    },
    {
     "data": {
      "text/plain": [
       "defaultdict(<function utils.get_scores.<locals>.<lambda>()>,\n",
       "            {'5678': 3.931740939617157,\n",
       "             '6543': 2.7990763261914253,\n",
       "             '9101': 4.5643094927072525,\n",
       "             '1121': 3.5915771275758743,\n",
       "             '3141': 4.32384891808033,\n",
       "             '5002': 5.840063378214836})"
      ]
     },
     "execution_count": 1,
     "metadata": {},
     "output_type": "execute_result"
    }
   ],
   "source": [
    "import time\n",
    "starttime = time.time()\n",
    "scores = get_scores(model, *get_sample_events())\n",
    "print(\"Time elapsed: \", round(time.time() - starttime, 2))\n",
    "scores"
   ]
  },
  {
   "attachments": {},
   "cell_type": "markdown",
   "metadata": {},
   "source": [
    "### Method 2: recommender_server.py\n",
    "Before running this code, please run `python ./recommender_server.py` in the terminal. This will start the server on port 5000 (by default) or the port specified by the .env."
   ]
  },
  {
   "cell_type": "code",
   "execution_count": 2,
   "metadata": {},
   "outputs": [
    {
     "name": "stdout",
     "output_type": "stream",
     "text": [
      "Time elapsed:  2.72\n",
      "{\"1121\":3.5915771275758743,\"3141\":4.32384891808033,\"5002\":5.840063378214836,\"5678\":3.931740939617157,\"6543\":2.7990763261914253,\"9101\":4.5643094927072525}\n",
      "\n"
     ]
    }
   ],
   "source": [
    "import requests\n",
    "import os\n",
    "from dotenv import load_dotenv\n",
    "load_dotenv()\n",
    "\n",
    "PORT = os.getenv('PORT')\n",
    "url = 'http://127.0.0.1:'+str(PORT)+'/recommend'\n",
    "\n",
    "attended_events, available_events = get_sample_events()\n",
    "myobj = {'history': attended_events,\n",
    "         'available': available_events}\n",
    "\n",
    "import time\n",
    "starttime = time.time()\n",
    "x = requests.post(url, json = myobj)\n",
    "print(\"Time elapsed: \", round(time.time() - starttime, 2))\n",
    "print(x.text)"
   ]
  }
 ],
 "metadata": {
  "kernelspec": {
   "display_name": "Python 3",
   "language": "python",
   "name": "python3"
  },
  "language_info": {
   "codemirror_mode": {
    "name": "ipython",
    "version": 3
   },
   "file_extension": ".py",
   "mimetype": "text/x-python",
   "name": "python",
   "nbconvert_exporter": "python",
   "pygments_lexer": "ipython3",
   "version": "3.10.4"
  },
  "orig_nbformat": 4
 },
 "nbformat": 4,
 "nbformat_minor": 2
}
