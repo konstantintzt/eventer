{
 "cells": [
  {
   "cell_type": "code",
   "execution_count": 96,
   "metadata": {},
   "outputs": [
    {
     "name": "stdout",
     "output_type": "stream",
     "text": [
      "Time elapsed:  4.28\n",
      "{\"size\":0}\n"
     ]
    }
   ],
   "source": [
    "import requests\n",
    "import os\n",
    "url = 'http://127.0.0.1:'+str(2902)+'/recommend'\n",
    "\n",
    "import time\n",
    "starttime = time.time()\n",
    "x = requests.get(url, params={\"uuid\":\"53ee0a27-c4c4-461b-8285-adebdc6df5e3\"})\n",
    "print(\"Time elapsed: \", round(time.time() - starttime, 2))\n",
    "print(x.text)"
   ]
  },
  {
   "cell_type": "code",
   "execution_count": 1,
   "metadata": {},
   "outputs": [],
   "source": [
    "from pymongo_getdb import get_database\n",
    "db = get_database()"
   ]
  },
  {
   "cell_type": "code",
   "execution_count": 44,
   "metadata": {},
   "outputs": [],
   "source": [
    "import time\n",
    "def get_attended_and_available(db, uuid:str):\n",
    "    past_event_ids = []\n",
    "    for event in db[\"attendances\"].find({'user':uuid}):\n",
    "        past_event_ids.append(event[\"uuid\"])\n",
    "    past_events = []\n",
    "    for past_event_id in past_event_ids:\n",
    "        for event in db[\"events\"].find({\"uuid\": past_event_id}):\n",
    "            past_events.append(dict(event))\n",
    "    available_events = [event for event in db[\"events\"].find({\"date\": {'$gt': time.time() * 1000}})]\n",
    "    return past_events, available_events"
   ]
  },
  {
   "cell_type": "code",
   "execution_count": 50,
   "metadata": {},
   "outputs": [],
   "source": [
    "from utils import get_scores\n",
    "from sentence_transformers import SentenceTransformer\n",
    "model = SentenceTransformer('average_word_embeddings_glove.6B.300d')\n",
    "\n",
    "attended, available = get_attended_and_available(db, \"53ee0a27-c4c4-461b-8285-adebdc6df5e3\")\n",
    "for i in attended:\n",
    "    i[\"zip_code\"] = i[\"zip\"]\n",
    "    del i[\"zip\"]\n",
    "for i in available:\n",
    "    i[\"zip_code\"] = i[\"zip\"]\n",
    "    del i[\"zip\"]\n",
    "\n",
    "scores = get_scores(model, attended, available)"
   ]
  },
  {
   "cell_type": "code",
   "execution_count": 51,
   "metadata": {},
   "outputs": [
    {
     "data": {
      "text/plain": [
       "defaultdict(<function utils.get_scores.<locals>.<lambda>()>,\n",
       "            {'9d9ec8fe-85d8-40e9-9dc0-88ef963ba7e4': 14.354244239628315,\n",
       "             '8ca87f53-9f82-4564-8f76-637c5fee3b97': 22.74951690249145,\n",
       "             '52ce2ea9-622a-4e25-903b-4ed057127abb': 12.318105518817902,\n",
       "             '1410e4b2-4bd8-4611-a769-e212295acf7c': 16.397451780736446,\n",
       "             'cb4efb19-b1f9-4ce3-978f-03d1b0fdd60e': 10.778715774416924})"
      ]
     },
     "execution_count": 51,
     "metadata": {},
     "output_type": "execute_result"
    }
   ],
   "source": [
    "scores"
   ]
  },
  {
   "cell_type": "code",
   "execution_count": 38,
   "metadata": {},
   "outputs": [
    {
     "name": "stdout",
     "output_type": "stream",
     "text": [
      "{'_id': ObjectId('64781b02944e8b635368c59b'), 'title': 'test', 'description': 'descritpion', 'date': 11076307200000.0, 'zip': 91362, 'type': 3, 'organizer': 'Charles Qin', 'uuid': '9d9ec8fe-85d8-40e9-9dc0-88ef963ba7e4', 'likes': nan}\n",
      "{'_id': ObjectId('64782612bd542abbc82e23fd'), 'title': 'Dislike button', 'description': 'i wanna dislike konst bday party', 'date': 14214441600000.0, 'zip': 91362, 'type': 5, 'organizer': 'Charles Qin', 'uuid': '8ca87f53-9f82-4564-8f76-637c5fee3b97', 'likes': 4}\n",
      "{'_id': ObjectId('647856a7fbbbc12ed4466f66'), 'title': 'asdfad', 'description': 'fasdfas', 'date': 4803753600000.0, 'zip': 91362, 'type': 1, 'organizer': 'Charles Qin', 'uuid': '52ce2ea9-622a-4e25-903b-4ed057127abb', 'likes': 1, 'liked': 0}\n",
      "{'_id': ObjectId('647856befbbbc12ed4466f67'), 'title': 'testing', 'description': 'testest', 'date': 11427350400000.0, 'zip': 91362, 'type': 1, 'organizer': 'Charles Qin', 'uuid': '1410e4b2-4bd8-4611-a769-e212295acf7c', 'likes': 2, 'liked': 0}\n",
      "{'_id': ObjectId('647e6dfe9297ce0446552b45'), 'title': \"Konrtnstantin's birdday\", 'description': 'something', 'date': 1689120000000.0, 'zip': 90024, 'type': 1, 'organizer': 'PEICHENG ZHOU', 'uuid': 'cb4efb19-b1f9-4ce3-978f-03d1b0fdd60e', 'likes': 0, 'liked': 0}\n"
     ]
    }
   ],
   "source": [
    "import time\n",
    "for event in db[\"events\"].find({\"date\": {'$gt': time.time() * 1000}}):\n",
    "    print(event)"
   ]
  },
  {
   "cell_type": "code",
   "execution_count": 25,
   "metadata": {},
   "outputs": [
    {
     "data": {
      "text/plain": [
       "[{'_id': ObjectId('647817c1c7858d9bd4765bfe'),\n",
       "  'title': 'Test Event 1',\n",
       "  'description': 'This is a test event',\n",
       "  'date': 1685491200000.0,\n",
       "  'zip': 94588,\n",
       "  'type': 1,\n",
       "  'organizer': 'SEAN TANG',\n",
       "  'uuid': 'e755fec1-379c-4030-9d93-34bdd29aed7b',\n",
       "  'likes': 3},\n",
       " {'_id': ObjectId('647824ecef20b8f047a88652'),\n",
       "  'title': 'Guys also plz fix the UI 😩',\n",
       "  'description': \"The form for posting events doesn't look too nice rn :(\",\n",
       "  'date': 1685491200000.0,\n",
       "  'zip': 90024,\n",
       "  'type': 1,\n",
       "  'organizer': 'Konstantin Tzantchev',\n",
       "  'uuid': '3068a791-3ab4-440c-b4e8-50f9e634df0d',\n",
       "  'likes': 5},\n",
       " {'_id': ObjectId('647817f9c7858d9bd4765c00'),\n",
       "  'title': \"Konstantine' B-day\",\n",
       "  'description': 'Please dont let me have 0 attendance plz',\n",
       "  'date': 1685491200000.0,\n",
       "  'zip': 94588,\n",
       "  'type': 5,\n",
       "  'organizer': 'SEAN TANG',\n",
       "  'uuid': '725ee160-88c8-4de3-bff7-257f1e973012',\n",
       "  'likes': 3},\n",
       " {'_id': ObjectId('64782612bd542abbc82e23fd'),\n",
       "  'title': 'Dislike button',\n",
       "  'description': 'i wanna dislike konst bday party',\n",
       "  'date': 14214441600000.0,\n",
       "  'zip': 91362,\n",
       "  'type': 5,\n",
       "  'organizer': 'Charles Qin',\n",
       "  'uuid': '8ca87f53-9f82-4564-8f76-637c5fee3b97',\n",
       "  'likes': 4},\n",
       " {'_id': ObjectId('647838419e12cdd64c9099a6'),\n",
       "  'title': 'like button demo',\n",
       "  'description': 'like button',\n",
       "  'date': 1685491200000.0,\n",
       "  'zip': 94588,\n",
       "  'type': 1,\n",
       "  'organizer': 'Sean Tang',\n",
       "  'uuid': 'f3277776-7e3b-4b81-8f00-fde15d96d541',\n",
       "  'likes': 4,\n",
       "  'liked': 0},\n",
       " {'_id': ObjectId('64785310bd542abbc82e2402'),\n",
       "  'title': 'testing remodel',\n",
       "  'description': 'afds',\n",
       "  'date': 1079827200000.0,\n",
       "  'zip': 91352,\n",
       "  'type': 1,\n",
       "  'organizer': 'Charles Qin',\n",
       "  'uuid': '2f6ce609-c3f4-40fa-b930-3b3228d37278',\n",
       "  'likes': nan},\n",
       " {'_id': ObjectId('64785456c0127920be18341d'),\n",
       "  'title': 'Testing new post page ',\n",
       "  'description': 'Looking good so far 😎',\n",
       "  'date': 1013472000000.0,\n",
       "  'zip': 90024,\n",
       "  'type': 1,\n",
       "  'organizer': 'Konstantin Tzantchev',\n",
       "  'uuid': 'd2c40a2e-2565-40b8-9496-b9f48cc994ba',\n",
       "  'likes': 2,\n",
       "  'liked': 0},\n",
       " {'_id': ObjectId('6478519ebd542abbc82e2401'),\n",
       "  'title': 'testing eventpost remodel',\n",
       "  'description': 'aetate',\n",
       "  'date': 1080086400000.0,\n",
       "  'zip': 91362,\n",
       "  'type': 2,\n",
       "  'organizer': 'Charles Qin',\n",
       "  'uuid': '57500fa3-ec77-4ae5-8d4e-b2adf7706a05',\n",
       "  'likes': nan},\n",
       " {'_id': ObjectId('64785509c0127920be183426'),\n",
       "  'title': 'a',\n",
       "  'description': 'a',\n",
       "  'date': 978307200000.0,\n",
       "  'zip': 90024,\n",
       "  'type': 2,\n",
       "  'organizer': 'Konstantin Tzantchev',\n",
       "  'uuid': 'ea2e0494-3a22-4693-85fd-6755bea13a9b',\n",
       "  'likes': 2,\n",
       "  'liked': 0},\n",
       " {'_id': ObjectId('6478229bb3525cc03bbbd73a'),\n",
       "  'title': 'Use Github correctly :)',\n",
       "  'description': 'Guys please stop using old branches and make new ones instead :)))',\n",
       "  'date': 1685491200000.0,\n",
       "  'zip': 90024,\n",
       "  'type': 5,\n",
       "  'organizer': 'Konstantin Tzantchev',\n",
       "  'uuid': 'f54102c3-7d91-43c7-b3d5-96edaf50cb32',\n",
       "  'likes': nan},\n",
       " {'_id': ObjectId('647817dbc7858d9bd4765bff'),\n",
       "  'title': 'Test Event 2',\n",
       "  'description': 'Test event 2',\n",
       "  'date': 1685491200000.0,\n",
       "  'zip': 94588,\n",
       "  'type': 2,\n",
       "  'organizer': 'SEAN TANG',\n",
       "  'uuid': '5bb369ab-b253-42f2-bc3d-7dc5ac4b56ad',\n",
       "  'likes': 4},\n",
       " {'_id': ObjectId('647825d67258c065ffd4195a'),\n",
       "  'title': 'We fixed the dependency problems on the front end',\n",
       "  'description': 'no more \"npm client --force\"',\n",
       "  'date': 1685491200000.0,\n",
       "  'zip': 94588,\n",
       "  'type': 5,\n",
       "  'organizer': 'Sean Tang',\n",
       "  'uuid': '4e9a780e-30a5-4859-9d85-9738bfe888f0',\n",
       "  'likes': 4}]"
      ]
     },
     "execution_count": 25,
     "metadata": {},
     "output_type": "execute_result"
    }
   ],
   "source": [
    "get_past_events('53ee0a27-c4c4-461b-8285-adebdc6df5e3')"
   ]
  }
 ],
 "metadata": {
  "kernelspec": {
   "display_name": "Python 3",
   "language": "python",
   "name": "python3"
  },
  "language_info": {
   "codemirror_mode": {
    "name": "ipython",
    "version": 3
   },
   "file_extension": ".py",
   "mimetype": "text/x-python",
   "name": "python",
   "nbconvert_exporter": "python",
   "pygments_lexer": "ipython3",
   "version": "3.10.4"
  },
  "orig_nbformat": 4
 },
 "nbformat": 4,
 "nbformat_minor": 2
}
