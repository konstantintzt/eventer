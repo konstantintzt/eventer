{
 "cells": [
  {
   "cell_type": "code",
   "execution_count": 104,
   "metadata": {},
   "outputs": [
    {
     "name": "stdout",
     "output_type": "stream",
     "text": [
      "Time elapsed:  4.57\n",
      "{\"ordered_events\":[{\"_id\":\"647eb925c0ca8bffbb4d54ba\",\"date\":1694476800000,\"description\":\"The MATS program aims to find and train talented individuals for what we see as the world’s most urgent and talent-constrained problem: reducing risks from unaligned artificial intelligence (AI). We believe that ambitious young researchers from a variety of backgrounds have the potential to meaningfully contribute to the field of alignment research. We aim to provide the training, logistics, and community necessary to aid this transition.\",\"liked\":0,\"likes\":0,\"organizer\":\"PEICHENG ZHOU\",\"title\":\"Artificial Intelligence Summit\",\"type\":\"Party\",\"uuid\":\"219fbd8e-5309-4661-a870-cd90103be55a\",\"zip_code\":\"Los Angeles, Los Angeles\"},{\"_id\":\"64782612bd542abbc82e23fd\",\"date\":14214441600000,\"description\":\"i wanna dislike konst bday party\",\"likes\":4,\"organizer\":\"Charles Qin\",\"title\":\"Dislike button\",\"type\":\"Party\",\"uuid\":\"8ca87f53-9f82-4564-8f76-637c5fee3b97\",\"zip_code\":\"Thousand Oaks, Ventura\"},{\"_id\":\"647856befbbbc12ed4466f67\",\"date\":11427350400000,\"description\":\"testest\",\"liked\":0,\"likes\":2,\"organizer\":\"Charles Qin\",\"title\":\"testing\",\"type\":\"Concert\",\"uuid\":\"1410e4b2-4bd8-4611-a769-e212295acf7c\",\"zip_code\":\"Thousand Oaks, Ventura\"},{\"_id\":\"647ebca5174ad724f4915117\",\"date\":1689379200000,\"description\":\"AI Web3 Blockchain Quant AI\",\"liked\":0,\"likes\":1,\"organizer\":\"PEICHENG ZHOU\",\"title\":\"ACM Artificial Intelligence\",\"type\":\"Concert\",\"uuid\":\"25e6dede-8734-4614-a8c6-83b4e9313518\",\"zip_code\":\"Los Angeles, Los Angeles\"},{\"_id\":\"64781b02944e8b635368c59b\",\"date\":11076307200000,\"description\":\"descritpion\",\"likes\":0,\"organizer\":\"Charles Qin\",\"title\":\"test\",\"type\":\"Movie Screening\",\"uuid\":\"9d9ec8fe-85d8-40e9-9dc0-88ef963ba7e4\",\"zip_code\":\"Thousand Oaks, Ventura\"},{\"_id\":\"647856a7fbbbc12ed4466f66\",\"date\":4803753600000,\"description\":\"fasdfas\",\"liked\":0,\"likes\":1,\"organizer\":\"Charles Qin\",\"title\":\"asdfad\",\"type\":\"Concert\",\"uuid\":\"52ce2ea9-622a-4e25-903b-4ed057127abb\",\"zip_code\":\"Thousand Oaks, Ventura\"},{\"_id\":\"647eb9d3c0ca8bffbb4d54bb\",\"date\":157762684800000,\"description\":\"Smoke weed everyday!\",\"liked\":0,\"likes\":0,\"organizer\":\"PEICHENG ZHOU\",\"title\":\"Weed Wade's Woke Veranda\",\"type\":\"Sports game\",\"uuid\":\"3bbba7f5-df32-42a8-abc9-e1970877e738\",\"zip_code\":\"Melber, Graves\"},{\"_id\":\"647e6dfe9297ce0446552b45\",\"date\":1689120000000,\"description\":\"something\",\"liked\":0,\"likes\":0,\"organizer\":\"PEICHENG ZHOU\",\"title\":\"Konrtnstantin's birdday\",\"type\":\"Concert\",\"uuid\":\"cb4efb19-b1f9-4ce3-978f-03d1b0fdd60e\",\"zip_code\":\"Los Angeles, Los Angeles\"}]}\n"
     ]
    }
   ],
   "source": [
    "import requests\n",
    "import os\n",
    "url = 'http://127.0.0.1:'+str(2902)+'/recommend'\n",
    "\n",
    "import time\n",
    "starttime = time.time()\n",
    "x = requests.get(url, params={\"uuid\":\"53ee0a27-c4c4-461b-8285-adebdc6df5e3\"})\n",
    "print(\"Time elapsed: \", round(time.time() - starttime, 2))\n",
    "print(x.text)"
   ]
  },
  {
   "cell_type": "code",
   "execution_count": 1,
   "metadata": {},
   "outputs": [],
   "source": [
    "from pymongo_getdb import get_database\n",
    "db = get_database()"
   ]
  },
  {
   "cell_type": "code",
   "execution_count": 101,
   "metadata": {},
   "outputs": [
    {
     "name": "stdout",
     "output_type": "stream",
     "text": [
      "{'_id': ObjectId('6477d7104e8f126fffabaa7a'), 'name': 'Sean Tang', 'email': 'seantang001@gmail.com', 'uuid': 'e4a41a81-c009-4012-8750-fafcda2aff9b'}\n",
      "{'_id': ObjectId('6477d8bfba285b8d73171e0e'), 'name': 'Sean Tang', 'email': 'seantang0516@gmail.com', 'uuid': '514b9ea1-9652-49d5-a764-d30b9776f4a2'}\n",
      "{'_id': ObjectId('6477e2eb68cc12f076204f35'), 'name': 'Konstantin Tzantchev', 'email': 'konstantin.tzantchev@gmail.com', 'uuid': '53ee0a27-c4c4-461b-8285-adebdc6df5e3'}\n",
      "{'_id': ObjectId('6477f3853b77b7f769eae2a4'), 'name': 'SEAN TANG', 'email': 'seantang001@g.ucla.edu', 'uuid': 'dd014777-4dd1-4c5f-a845-03716654b18f'}\n",
      "{'_id': ObjectId('6478080b68cf56b1799d9204'), 'email': 'theduddiest@gmail.com', 'uuid': 'd8fd6cc3-e54b-4bb6-9dbc-a31ddf0684c8'}\n",
      "{'_id': ObjectId('64781ae3944e8b635368c59a'), 'name': 'Charles Qin', 'email': 'qincharles8@gmail.com', 'uuid': 'fabf0549-9c02-4a6b-a646-dc03970d26e1'}\n",
      "{'_id': ObjectId('6479413ddff044eb3237d595'), 'name': 'MAYA KANNAN', 'email': 'mayakannan@g.ucla.edu', 'uuid': 'e87f3769-52c8-485a-8ea4-0a21047c9171'}\n",
      "{'_id': ObjectId('647d1f7676b33d36a8d93952'), 'name': 'PEICHENG ZHOU', 'email': 'willzhou97@g.ucla.edu', 'uuid': '3dd8c276-32b7-431b-a497-4ecb45e79613'}\n"
     ]
    }
   ],
   "source": [
    "for user in db[\"users\"].find():\n",
    "    print(user)"
   ]
  },
  {
   "cell_type": "code",
   "execution_count": 3,
   "metadata": {},
   "outputs": [
    {
     "name": "stdout",
     "output_type": "stream",
     "text": [
      "{'_id': ObjectId('64780fdfc31bad602920b6e4'), 'uuid': '8fc1e95c-3ce5-4167-a75d-3accc5403c1c', 'user': '514b9ea1-9652-49d5-a764-d30b9776f4a2'}\n",
      "{'_id': ObjectId('6478112debb2ed37f2555efe'), 'uuid': '8fc1e95c-3ce5-4167-a75d-3accc5403c1c', 'user': 'dd014777-4dd1-4c5f-a845-03716654b18f'}\n",
      "{'_id': ObjectId('647816fec7858d9bd4765bfc'), 'uuid': '90b4e029-d610-4a4f-8e01-a29b400ceda9', 'user': 'e4a41a81-c009-4012-8750-fafcda2aff9b'}\n",
      "{'_id': ObjectId('6478171bc7858d9bd4765bfd'), 'uuid': '90b4e029-d610-4a4f-8e01-a29b400ceda9', 'user': '514b9ea1-9652-49d5-a764-d30b9776f4a2'}\n",
      "{'_id': ObjectId('64781866c7858d9bd4765c04'), 'uuid': '5bb369ab-b253-42f2-bc3d-7dc5ac4b56ad', 'user': '514b9ea1-9652-49d5-a764-d30b9776f4a2'}\n",
      "{'_id': ObjectId('64781f5bc7858d9bd4765c05'), 'uuid': 'e755fec1-379c-4030-9d93-34bdd29aed7b', 'user': 'e4a41a81-c009-4012-8750-fafcda2aff9b'}\n",
      "{'_id': ObjectId('64781f8ac7858d9bd4765c06'), 'uuid': '725ee160-88c8-4de3-bff7-257f1e973012', 'user': 'e4a41a81-c009-4012-8750-fafcda2aff9b'}\n",
      "{'_id': ObjectId('64781f8ec7858d9bd4765c07'), 'uuid': '9d9ec8fe-85d8-40e9-9dc0-88ef963ba7e4', 'user': 'e4a41a81-c009-4012-8750-fafcda2aff9b'}\n",
      "{'_id': ObjectId('64781f9cc7858d9bd4765c08'), 'uuid': '5bb369ab-b253-42f2-bc3d-7dc5ac4b56ad', 'user': 'e4a41a81-c009-4012-8750-fafcda2aff9b'}\n",
      "{'_id': ObjectId('64781fcbc7858d9bd4765c0a'), 'uuid': 'feeb68b5-f61f-4d10-85b0-17c8955d1944', 'user': 'e4a41a81-c009-4012-8750-fafcda2aff9b'}\n",
      "{'_id': ObjectId('64782ae697d2a14210600990'), 'uuid': '4e9a780e-30a5-4859-9d85-9738bfe888f0', 'user': 'e4a41a81-c009-4012-8750-fafcda2aff9b'}\n",
      "{'_id': ObjectId('64782b9197d2a14210600991'), 'uuid': '3068a791-3ab4-440c-b4e8-50f9e634df0d', 'user': 'e4a41a81-c009-4012-8750-fafcda2aff9b'}\n",
      "{'_id': ObjectId('64782b9397d2a14210600992'), 'uuid': '8ca87f53-9f82-4564-8f76-637c5fee3b97', 'user': 'e4a41a81-c009-4012-8750-fafcda2aff9b'}\n",
      "{'_id': ObjectId('64782b9697d2a14210600993'), 'uuid': 'f54102c3-7d91-43c7-b3d5-96edaf50cb32', 'user': 'e4a41a81-c009-4012-8750-fafcda2aff9b'}\n",
      "{'_id': ObjectId('647838619e12cdd64c9099a7'), 'uuid': 'f3277776-7e3b-4b81-8f00-fde15d96d541', 'user': 'e4a41a81-c009-4012-8750-fafcda2aff9b'}\n",
      "{'_id': ObjectId('647839f6a1f2cacd021cff32'), 'uuid': '4e9a780e-30a5-4859-9d85-9738bfe888f0', 'user': 'dd014777-4dd1-4c5f-a845-03716654b18f'}\n",
      "{'_id': ObjectId('647839f8a1f2cacd021cff33'), 'uuid': '8ca87f53-9f82-4564-8f76-637c5fee3b97', 'user': 'dd014777-4dd1-4c5f-a845-03716654b18f'}\n",
      "{'_id': ObjectId('647839faa1f2cacd021cff34'), 'uuid': 'f3277776-7e3b-4b81-8f00-fde15d96d541', 'user': 'dd014777-4dd1-4c5f-a845-03716654b18f'}\n",
      "{'_id': ObjectId('64783db57f0737d4f337d07f'), 'uuid': 'e755fec1-379c-4030-9d93-34bdd29aed7b', 'user': 'd8fd6cc3-e54b-4bb6-9dbc-a31ddf0684c8'}\n",
      "{'_id': ObjectId('64783db87f0737d4f337d080'), 'uuid': '5bb369ab-b253-42f2-bc3d-7dc5ac4b56ad', 'user': 'd8fd6cc3-e54b-4bb6-9dbc-a31ddf0684c8'}\n",
      "{'_id': ObjectId('64783dbb7f0737d4f337d081'), 'uuid': '9d9ec8fe-85d8-40e9-9dc0-88ef963ba7e4', 'user': 'd8fd6cc3-e54b-4bb6-9dbc-a31ddf0684c8'}\n",
      "{'_id': ObjectId('64783dc27f0737d4f337d082'), 'uuid': 'feeb68b5-f61f-4d10-85b0-17c8955d1944', 'user': 'd8fd6cc3-e54b-4bb6-9dbc-a31ddf0684c8'}\n",
      "{'_id': ObjectId('64784007f69c029f0cd1d5cd'), 'uuid': '725ee160-88c8-4de3-bff7-257f1e973012', 'user': 'd8fd6cc3-e54b-4bb6-9dbc-a31ddf0684c8'}\n",
      "{'_id': ObjectId('6478479be574d10b73e5f5db'), 'uuid': '5bb369ab-b253-42f2-bc3d-7dc5ac4b56ad', 'user': '53ee0a27-c4c4-461b-8285-adebdc6df5e3'}\n",
      "{'_id': ObjectId('6478479ee574d10b73e5f5dc'), 'uuid': 'e755fec1-379c-4030-9d93-34bdd29aed7b', 'user': '53ee0a27-c4c4-461b-8285-adebdc6df5e3'}\n",
      "{'_id': ObjectId('6478479fe574d10b73e5f5dd'), 'uuid': '725ee160-88c8-4de3-bff7-257f1e973012', 'user': '53ee0a27-c4c4-461b-8285-adebdc6df5e3'}\n",
      "{'_id': ObjectId('6478480ee574d10b73e5f5de'), 'uuid': '9d9ec8fe-85d8-40e9-9dc0-88ef963ba7e4', 'user': '53ee0a27-c4c4-461b-8285-adebdc6df5e3'}\n",
      "{'_id': ObjectId('64784812e574d10b73e5f5df'), 'uuid': 'f54102c3-7d91-43c7-b3d5-96edaf50cb32', 'user': '53ee0a27-c4c4-461b-8285-adebdc6df5e3'}\n",
      "{'_id': ObjectId('64784816e574d10b73e5f5e0'), 'uuid': '8ca87f53-9f82-4564-8f76-637c5fee3b97', 'user': '53ee0a27-c4c4-461b-8285-adebdc6df5e3'}\n",
      "{'_id': ObjectId('64785466c0127920be18341f'), 'uuid': 'd2c40a2e-2565-40b8-9496-b9f48cc994ba', 'user': '53ee0a27-c4c4-461b-8285-adebdc6df5e3'}\n",
      "{'_id': ObjectId('647854c5c0127920be183420'), 'uuid': '2f6ce609-c3f4-40fa-b930-3b3228d37278', 'user': '53ee0a27-c4c4-461b-8285-adebdc6df5e3'}\n",
      "{'_id': ObjectId('647854cfc0127920be183421'), 'uuid': '57500fa3-ec77-4ae5-8d4e-b2adf7706a05', 'user': '53ee0a27-c4c4-461b-8285-adebdc6df5e3'}\n",
      "{'_id': ObjectId('647854dfc0127920be183423'), 'uuid': 'feeb68b5-f61f-4d10-85b0-17c8955d1944', 'user': '53ee0a27-c4c4-461b-8285-adebdc6df5e3'}\n",
      "{'_id': ObjectId('647854e1c0127920be183424'), 'uuid': '3068a791-3ab4-440c-b4e8-50f9e634df0d', 'user': '53ee0a27-c4c4-461b-8285-adebdc6df5e3'}\n",
      "{'_id': ObjectId('647854e6c0127920be183425'), 'uuid': '4e9a780e-30a5-4859-9d85-9738bfe888f0', 'user': '53ee0a27-c4c4-461b-8285-adebdc6df5e3'}\n",
      "{'_id': ObjectId('647858e6fbbbc12ed4466f6a'), 'uuid': '5bb369ab-b253-42f2-bc3d-7dc5ac4b56ad', 'user': 'fabf0549-9c02-4a6b-a646-dc03970d26e1'}\n",
      "{'_id': ObjectId('6478e19c7c351bd584cbcdb8'), 'uuid': 'f54102c3-7d91-43c7-b3d5-96edaf50cb32', 'user': 'd8fd6cc3-e54b-4bb6-9dbc-a31ddf0684c8'}\n",
      "{'_id': ObjectId('6478e1a87c351bd584cbcdb9'), 'uuid': '4e9a780e-30a5-4859-9d85-9738bfe888f0', 'user': 'd8fd6cc3-e54b-4bb6-9dbc-a31ddf0684c8'}\n",
      "{'_id': ObjectId('6478e335cda12d224422e3ec'), 'uuid': '3068a791-3ab4-440c-b4e8-50f9e634df0d', 'user': 'd8fd6cc3-e54b-4bb6-9dbc-a31ddf0684c8'}\n",
      "{'_id': ObjectId('6478e3692f12092d18120197'), 'uuid': 'e755fec1-379c-4030-9d93-34bdd29aed7b', 'user': 'd8fd6cc3-e54b-4bb6-9dbc-a31ddf0684c8'}\n",
      "{'_id': ObjectId('6478e39d2f12092d18120198'), 'uuid': '5bb369ab-b253-42f2-bc3d-7dc5ac4b56ad', 'user': 'd8fd6cc3-e54b-4bb6-9dbc-a31ddf0684c8'}\n",
      "{'_id': ObjectId('6478e3fc6a3dfdaece494d59'), 'uuid': '725ee160-88c8-4de3-bff7-257f1e973012', 'user': 'd8fd6cc3-e54b-4bb6-9dbc-a31ddf0684c8'}\n",
      "{'_id': ObjectId('6478e45347656ab55e427c93'), 'uuid': 'feeb68b5-f61f-4d10-85b0-17c8955d1944', 'user': 'd8fd6cc3-e54b-4bb6-9dbc-a31ddf0684c8'}\n",
      "{'_id': ObjectId('6478e4ee47656ab55e427c94'), 'uuid': '1410e4b2-4bd8-4611-a769-e212295acf7c', 'user': 'd8fd6cc3-e54b-4bb6-9dbc-a31ddf0684c8'}\n",
      "{'_id': ObjectId('6478fe376a2614a8f4a2a836'), 'uuid': '096528d4-853b-4f61-bc17-c84c5dd399de', 'user': '53ee0a27-c4c4-461b-8285-adebdc6df5e3'}\n",
      "{'_id': ObjectId('647903b56a2614a8f4a2a837'), 'uuid': 'ea2e0494-3a22-4693-85fd-6755bea13a9b', 'user': '53ee0a27-c4c4-461b-8285-adebdc6df5e3'}\n",
      "{'_id': ObjectId('647903b86a2614a8f4a2a838'), 'uuid': '131143a1-ce74-43d4-b379-ce110c914668', 'user': '53ee0a27-c4c4-461b-8285-adebdc6df5e3'}\n",
      "{'_id': ObjectId('647903bb6a2614a8f4a2a839'), 'uuid': 'f3277776-7e3b-4b81-8f00-fde15d96d541', 'user': '53ee0a27-c4c4-461b-8285-adebdc6df5e3'}\n",
      "{'_id': ObjectId('647903be6a2614a8f4a2a83a'), 'uuid': '942e162e-b31f-419d-9298-014e0256e1a9', 'user': '53ee0a27-c4c4-461b-8285-adebdc6df5e3'}\n",
      "{'_id': ObjectId('647904b16a2614a8f4a2a83b'), 'uuid': '1410e4b2-4bd8-4611-a769-e212295acf7c', 'user': '53ee0a27-c4c4-461b-8285-adebdc6df5e3'}\n",
      "{'_id': ObjectId('647904b46a2614a8f4a2a83c'), 'uuid': '910df498-8f79-48a9-bc0c-a4459419df2a', 'user': '53ee0a27-c4c4-461b-8285-adebdc6df5e3'}\n",
      "{'_id': ObjectId('647904b86a2614a8f4a2a83d'), 'uuid': '52ce2ea9-622a-4e25-903b-4ed057127abb', 'user': '53ee0a27-c4c4-461b-8285-adebdc6df5e3'}\n",
      "{'_id': ObjectId('64793e40fbbbc12ed4466f6b'), 'uuid': 'e755fec1-379c-4030-9d93-34bdd29aed7b', 'user': 'fabf0549-9c02-4a6b-a646-dc03970d26e1'}\n",
      "{'_id': ObjectId('64793e45fbbbc12ed4466f6c'), 'uuid': '725ee160-88c8-4de3-bff7-257f1e973012', 'user': 'fabf0549-9c02-4a6b-a646-dc03970d26e1'}\n",
      "{'_id': ObjectId('64793e46fbbbc12ed4466f6d'), 'uuid': '9d9ec8fe-85d8-40e9-9dc0-88ef963ba7e4', 'user': 'fabf0549-9c02-4a6b-a646-dc03970d26e1'}\n",
      "{'_id': ObjectId('64793e48fbbbc12ed4466f6e'), 'uuid': 'f54102c3-7d91-43c7-b3d5-96edaf50cb32', 'user': 'fabf0549-9c02-4a6b-a646-dc03970d26e1'}\n",
      "{'_id': ObjectId('64793e4afbbbc12ed4466f6f'), 'uuid': '4e9a780e-30a5-4859-9d85-9738bfe888f0', 'user': 'fabf0549-9c02-4a6b-a646-dc03970d26e1'}\n",
      "{'_id': ObjectId('64793e4cfbbbc12ed4466f70'), 'uuid': '3068a791-3ab4-440c-b4e8-50f9e634df0d', 'user': 'fabf0549-9c02-4a6b-a646-dc03970d26e1'}\n",
      "{'_id': ObjectId('64793e4dfbbbc12ed4466f71'), 'uuid': '8ca87f53-9f82-4564-8f76-637c5fee3b97', 'user': 'fabf0549-9c02-4a6b-a646-dc03970d26e1'}\n",
      "{'_id': ObjectId('64793e89fbbbc12ed4466f72'), 'uuid': '2f6ce609-c3f4-40fa-b930-3b3228d37278', 'user': 'fabf0549-9c02-4a6b-a646-dc03970d26e1'}\n",
      "{'_id': ObjectId('64793fe70883e67632e99731'), 'uuid': 'feeb68b5-f61f-4d10-85b0-17c8955d1944', 'user': 'fabf0549-9c02-4a6b-a646-dc03970d26e1'}\n",
      "{'_id': ObjectId('64793fea0883e67632e99732'), 'uuid': '57500fa3-ec77-4ae5-8d4e-b2adf7706a05', 'user': 'fabf0549-9c02-4a6b-a646-dc03970d26e1'}\n",
      "{'_id': ObjectId('64793fee0883e67632e99733'), 'uuid': 'f3277776-7e3b-4b81-8f00-fde15d96d541', 'user': 'fabf0549-9c02-4a6b-a646-dc03970d26e1'}\n",
      "{'_id': ObjectId('64793ff00883e67632e99734'), 'uuid': 'd2c40a2e-2565-40b8-9496-b9f48cc994ba', 'user': 'fabf0549-9c02-4a6b-a646-dc03970d26e1'}\n",
      "{'_id': ObjectId('64793ff20883e67632e99735'), 'uuid': '942e162e-b31f-419d-9298-014e0256e1a9', 'user': 'fabf0549-9c02-4a6b-a646-dc03970d26e1'}\n",
      "{'_id': ObjectId('64794937dff044eb3237d598'), 'uuid': '2f6ce609-c3f4-40fa-b930-3b3228d37278', 'user': 'd8fd6cc3-e54b-4bb6-9dbc-a31ddf0684c8'}\n",
      "{'_id': ObjectId('64797affc5fa7ae2ddea991b'), 'uuid': '131143a1-ce74-43d4-b379-ce110c914668', 'user': 'fabf0549-9c02-4a6b-a646-dc03970d26e1'}\n",
      "{'_id': ObjectId('64797b84c5fa7ae2ddea991e'), 'uuid': '33024aec-456c-4b9a-b170-0a50fb643f18', 'user': 'fabf0549-9c02-4a6b-a646-dc03970d26e1'}\n",
      "{'_id': ObjectId('64797be6c5fa7ae2ddea9921'), 'uuid': '910df498-8f79-48a9-bc0c-a4459419df2a', 'user': 'fabf0549-9c02-4a6b-a646-dc03970d26e1'}\n",
      "{'_id': ObjectId('64797c12c5fa7ae2ddea9923'), 'uuid': '98b40fd1-27cf-4361-a451-5bafb8fe91cb', 'user': 'fabf0549-9c02-4a6b-a646-dc03970d26e1'}\n",
      "{'_id': ObjectId('6479a9e73e272e0e15a93b71'), 'uuid': '096528d4-853b-4f61-bc17-c84c5dd399de', 'user': 'e4a41a81-c009-4012-8750-fafcda2aff9b'}\n",
      "{'_id': ObjectId('6479a9eb3e272e0e15a93b72'), 'uuid': '2f6ce609-c3f4-40fa-b930-3b3228d37278', 'user': 'e4a41a81-c009-4012-8750-fafcda2aff9b'}\n",
      "{'_id': ObjectId('6479a9ed3e272e0e15a93b73'), 'uuid': '910df498-8f79-48a9-bc0c-a4459419df2a', 'user': 'e4a41a81-c009-4012-8750-fafcda2aff9b'}\n",
      "{'_id': ObjectId('6479a9ee3e272e0e15a93b74'), 'uuid': '98b40fd1-27cf-4361-a451-5bafb8fe91cb', 'user': 'e4a41a81-c009-4012-8750-fafcda2aff9b'}\n",
      "{'_id': ObjectId('647c33848cf1f342b232000e'), 'uuid': 'ea2e0494-3a22-4693-85fd-6755bea13a9b', 'user': 'e4a41a81-c009-4012-8750-fafcda2aff9b'}\n",
      "{'_id': ObjectId('647c33898cf1f342b232000f'), 'uuid': '942e162e-b31f-419d-9298-014e0256e1a9', 'user': 'e4a41a81-c009-4012-8750-fafcda2aff9b'}\n",
      "{'_id': ObjectId('647e4ea776b33d36a8d93958'), 'uuid': '3068a791-3ab4-440c-b4e8-50f9e634df0d', 'user': '3dd8c276-32b7-431b-a497-4ecb45e79613'}\n",
      "{'_id': ObjectId('647e4eab76b33d36a8d93959'), 'uuid': '5fe96f14-aff2-4876-9074-2f9900e65e27', 'user': '3dd8c276-32b7-431b-a497-4ecb45e79613'}\n",
      "{'_id': ObjectId('647eb8e5c0ca8bffbb4d54b9'), 'uuid': '354a0214-2720-414e-b636-7bfd47b2cc97', 'user': '3dd8c276-32b7-431b-a497-4ecb45e79613'}\n",
      "{'_id': ObjectId('647ebcd2174ad724f4915118'), 'uuid': '25e6dede-8734-4614-a8c6-83b4e9313518', 'user': '3dd8c276-32b7-431b-a497-4ecb45e79613'}\n",
      "{'_id': ObjectId('647ed69cc20b5f08fa0c6b5f'), 'uuid': '4e9a780e-30a5-4859-9d85-9738bfe888f0', 'user': '3dd8c276-32b7-431b-a497-4ecb45e79613'}\n",
      "{'_id': ObjectId('647edd0d9a5cadeae66c59dc'), 'uuid': '219fbd8e-5309-4661-a870-cd90103be55a', 'user': '53ee0a27-c4c4-461b-8285-adebdc6df5e3'}\n",
      "{'_id': ObjectId('647edf1725aaf91e10aaeaf5'), 'uuid': 'd13ea8f8-9508-4509-a7a9-b1e517a7db14', 'user': '53ee0a27-c4c4-461b-8285-adebdc6df5e3'}\n",
      "{'_id': ObjectId('647ee16a876bcb5a04d80d3f'), 'uuid': '25e6dede-8734-4614-a8c6-83b4e9313518', 'user': '53ee0a27-c4c4-461b-8285-adebdc6df5e3'}\n",
      "{'_id': ObjectId('647fe5442abe106126fc62d3'), 'uuid': '5fe96f14-aff2-4876-9074-2f9900e65e27', 'user': '53ee0a27-c4c4-461b-8285-adebdc6df5e3'}\n",
      "{'_id': ObjectId('647fe8852abe106126fc62d5'), 'uuid': 'a578113a-ba8f-4c5f-8945-919f3bfb73e9', 'user': '53ee0a27-c4c4-461b-8285-adebdc6df5e3'}\n",
      "{'_id': ObjectId('647fee522abe106126fc62d7'), 'uuid': '56d20862-bf07-4a1f-952d-6119015df0db', 'user': '53ee0a27-c4c4-461b-8285-adebdc6df5e3'}\n",
      "{'_id': ObjectId('647fef792abe106126fc62da'), 'uuid': '411bf814-f56a-4ec2-8835-887593ef0fd3', 'user': '53ee0a27-c4c4-461b-8285-adebdc6df5e3'}\n",
      "{'_id': ObjectId('647ff8c730d0ebedc93a9caa'), 'uuid': 'a94b06f2-0edb-4b7e-b27e-c216a1b04f73', 'user': '53ee0a27-c4c4-461b-8285-adebdc6df5e3'}\n",
      "{'_id': ObjectId('647ff95630d0ebedc93a9cac'), 'uuid': 'e09604f8-80bd-4e3b-878e-81c04b1a76b7', 'user': '53ee0a27-c4c4-461b-8285-adebdc6df5e3'}\n",
      "{'_id': ObjectId('648001659eb649c2f86c3a95'), 'uuid': 'c5514050-ab61-4f0e-847e-5f4549c9ddd0', 'user': '3dd8c276-32b7-431b-a497-4ecb45e79613'}\n",
      "{'_id': ObjectId('6480019e9eb649c2f86c3a96'), 'uuid': 'cb4efb19-b1f9-4ce3-978f-03d1b0fdd60e', 'user': '3dd8c276-32b7-431b-a497-4ecb45e79613'}\n"
     ]
    }
   ],
   "source": [
    "uuid = \"53ee0a27-c4c4-461b-8285-adebdc6df5e3\"\n",
    "def get_attended_and_available(db, uuid:str):\n",
    "\tpast_event_ids = []\n",
    "\tfor event in db[\"attendances\"].find({'user':uuid}):\n",
    "\t\tpast_event_ids.append(event[\"uuid\"])\n",
    "\tpast_events = []\n",
    "\tfor past_event_id in past_event_ids:\n",
    "\t\tfor event in db[\"events\"].find({\"uuid\": past_event_id}):\n",
    "\t\t\tpast_events.append(dict(event))\n",
    "\tavailable_events = [event for event in db[\"events\"].find({\"date\": {'$gt': time.time() * 1000}})]\n",
    "\treturn past_events, available_events\n",
    "attended, available = get_attended_and_available(db, uuid)\n",
    "\n",
    "for like in db[\"likes\"].find({\"user\": uuid}):\n",
    "    for event in available:\n",
    "        if event[\"uuid\"] == like[\"event\"]:\n",
    "            event[\"likes\"] += 1"
   ]
  },
  {
   "cell_type": "code",
   "execution_count": null,
   "metadata": {},
   "outputs": [],
   "source": [
    "for like in "
   ]
  },
  {
   "cell_type": "code",
   "execution_count": 44,
   "metadata": {},
   "outputs": [],
   "source": [
    "import time\n",
    "def get_attended_and_available(db, uuid:str):\n",
    "    past_event_ids = []\n",
    "    for event in db[\"attendances\"].find({'user':uuid}):\n",
    "        past_event_ids.append(event[\"uuid\"])\n",
    "    past_events = []\n",
    "    for past_event_id in past_event_ids:\n",
    "        for event in db[\"events\"].find({\"uuid\": past_event_id}):\n",
    "            past_events.append(dict(event))\n",
    "    available_events = [event for event in db[\"events\"].find({\"date\": {'$gt': time.time() * 1000}})]\n",
    "    return past_events, available_events"
   ]
  },
  {
   "cell_type": "code",
   "execution_count": 50,
   "metadata": {},
   "outputs": [],
   "source": [
    "from utils import get_scores\n",
    "from sentence_transformers import SentenceTransformer\n",
    "model = SentenceTransformer('average_word_embeddings_glove.6B.300d')\n",
    "\n",
    "attended, available = get_attended_and_available(db, \"53ee0a27-c4c4-461b-8285-adebdc6df5e3\")\n",
    "for i in attended:\n",
    "    i[\"zip_code\"] = i[\"zip\"]\n",
    "    del i[\"zip\"]\n",
    "for i in available:\n",
    "    i[\"zip_code\"] = i[\"zip\"]\n",
    "    del i[\"zip\"]\n",
    "\n",
    "scores = get_scores(model, attended, available)"
   ]
  },
  {
   "cell_type": "code",
   "execution_count": 51,
   "metadata": {},
   "outputs": [
    {
     "data": {
      "text/plain": [
       "defaultdict(<function utils.get_scores.<locals>.<lambda>()>,\n",
       "            {'9d9ec8fe-85d8-40e9-9dc0-88ef963ba7e4': 14.354244239628315,\n",
       "             '8ca87f53-9f82-4564-8f76-637c5fee3b97': 22.74951690249145,\n",
       "             '52ce2ea9-622a-4e25-903b-4ed057127abb': 12.318105518817902,\n",
       "             '1410e4b2-4bd8-4611-a769-e212295acf7c': 16.397451780736446,\n",
       "             'cb4efb19-b1f9-4ce3-978f-03d1b0fdd60e': 10.778715774416924})"
      ]
     },
     "execution_count": 51,
     "metadata": {},
     "output_type": "execute_result"
    }
   ],
   "source": [
    "scores"
   ]
  },
  {
   "cell_type": "code",
   "execution_count": 38,
   "metadata": {},
   "outputs": [
    {
     "name": "stdout",
     "output_type": "stream",
     "text": [
      "{'_id': ObjectId('64781b02944e8b635368c59b'), 'title': 'test', 'description': 'descritpion', 'date': 11076307200000.0, 'zip': 91362, 'type': 3, 'organizer': 'Charles Qin', 'uuid': '9d9ec8fe-85d8-40e9-9dc0-88ef963ba7e4', 'likes': nan}\n",
      "{'_id': ObjectId('64782612bd542abbc82e23fd'), 'title': 'Dislike button', 'description': 'i wanna dislike konst bday party', 'date': 14214441600000.0, 'zip': 91362, 'type': 5, 'organizer': 'Charles Qin', 'uuid': '8ca87f53-9f82-4564-8f76-637c5fee3b97', 'likes': 4}\n",
      "{'_id': ObjectId('647856a7fbbbc12ed4466f66'), 'title': 'asdfad', 'description': 'fasdfas', 'date': 4803753600000.0, 'zip': 91362, 'type': 1, 'organizer': 'Charles Qin', 'uuid': '52ce2ea9-622a-4e25-903b-4ed057127abb', 'likes': 1, 'liked': 0}\n",
      "{'_id': ObjectId('647856befbbbc12ed4466f67'), 'title': 'testing', 'description': 'testest', 'date': 11427350400000.0, 'zip': 91362, 'type': 1, 'organizer': 'Charles Qin', 'uuid': '1410e4b2-4bd8-4611-a769-e212295acf7c', 'likes': 2, 'liked': 0}\n",
      "{'_id': ObjectId('647e6dfe9297ce0446552b45'), 'title': \"Konrtnstantin's birdday\", 'description': 'something', 'date': 1689120000000.0, 'zip': 90024, 'type': 1, 'organizer': 'PEICHENG ZHOU', 'uuid': 'cb4efb19-b1f9-4ce3-978f-03d1b0fdd60e', 'likes': 0, 'liked': 0}\n"
     ]
    }
   ],
   "source": [
    "import time\n",
    "for event in db[\"events\"].find({\"date\": {'$gt': time.time() * 1000}}):\n",
    "    print(event)"
   ]
  },
  {
   "cell_type": "code",
   "execution_count": 25,
   "metadata": {},
   "outputs": [
    {
     "data": {
      "text/plain": [
       "[{'_id': ObjectId('647817c1c7858d9bd4765bfe'),\n",
       "  'title': 'Test Event 1',\n",
       "  'description': 'This is a test event',\n",
       "  'date': 1685491200000.0,\n",
       "  'zip': 94588,\n",
       "  'type': 1,\n",
       "  'organizer': 'SEAN TANG',\n",
       "  'uuid': 'e755fec1-379c-4030-9d93-34bdd29aed7b',\n",
       "  'likes': 3},\n",
       " {'_id': ObjectId('647824ecef20b8f047a88652'),\n",
       "  'title': 'Guys also plz fix the UI 😩',\n",
       "  'description': \"The form for posting events doesn't look too nice rn :(\",\n",
       "  'date': 1685491200000.0,\n",
       "  'zip': 90024,\n",
       "  'type': 1,\n",
       "  'organizer': 'Konstantin Tzantchev',\n",
       "  'uuid': '3068a791-3ab4-440c-b4e8-50f9e634df0d',\n",
       "  'likes': 5},\n",
       " {'_id': ObjectId('647817f9c7858d9bd4765c00'),\n",
       "  'title': \"Konstantine' B-day\",\n",
       "  'description': 'Please dont let me have 0 attendance plz',\n",
       "  'date': 1685491200000.0,\n",
       "  'zip': 94588,\n",
       "  'type': 5,\n",
       "  'organizer': 'SEAN TANG',\n",
       "  'uuid': '725ee160-88c8-4de3-bff7-257f1e973012',\n",
       "  'likes': 3},\n",
       " {'_id': ObjectId('64782612bd542abbc82e23fd'),\n",
       "  'title': 'Dislike button',\n",
       "  'description': 'i wanna dislike konst bday party',\n",
       "  'date': 14214441600000.0,\n",
       "  'zip': 91362,\n",
       "  'type': 5,\n",
       "  'organizer': 'Charles Qin',\n",
       "  'uuid': '8ca87f53-9f82-4564-8f76-637c5fee3b97',\n",
       "  'likes': 4},\n",
       " {'_id': ObjectId('647838419e12cdd64c9099a6'),\n",
       "  'title': 'like button demo',\n",
       "  'description': 'like button',\n",
       "  'date': 1685491200000.0,\n",
       "  'zip': 94588,\n",
       "  'type': 1,\n",
       "  'organizer': 'Sean Tang',\n",
       "  'uuid': 'f3277776-7e3b-4b81-8f00-fde15d96d541',\n",
       "  'likes': 4,\n",
       "  'liked': 0},\n",
       " {'_id': ObjectId('64785310bd542abbc82e2402'),\n",
       "  'title': 'testing remodel',\n",
       "  'description': 'afds',\n",
       "  'date': 1079827200000.0,\n",
       "  'zip': 91352,\n",
       "  'type': 1,\n",
       "  'organizer': 'Charles Qin',\n",
       "  'uuid': '2f6ce609-c3f4-40fa-b930-3b3228d37278',\n",
       "  'likes': nan},\n",
       " {'_id': ObjectId('64785456c0127920be18341d'),\n",
       "  'title': 'Testing new post page ',\n",
       "  'description': 'Looking good so far 😎',\n",
       "  'date': 1013472000000.0,\n",
       "  'zip': 90024,\n",
       "  'type': 1,\n",
       "  'organizer': 'Konstantin Tzantchev',\n",
       "  'uuid': 'd2c40a2e-2565-40b8-9496-b9f48cc994ba',\n",
       "  'likes': 2,\n",
       "  'liked': 0},\n",
       " {'_id': ObjectId('6478519ebd542abbc82e2401'),\n",
       "  'title': 'testing eventpost remodel',\n",
       "  'description': 'aetate',\n",
       "  'date': 1080086400000.0,\n",
       "  'zip': 91362,\n",
       "  'type': 2,\n",
       "  'organizer': 'Charles Qin',\n",
       "  'uuid': '57500fa3-ec77-4ae5-8d4e-b2adf7706a05',\n",
       "  'likes': nan},\n",
       " {'_id': ObjectId('64785509c0127920be183426'),\n",
       "  'title': 'a',\n",
       "  'description': 'a',\n",
       "  'date': 978307200000.0,\n",
       "  'zip': 90024,\n",
       "  'type': 2,\n",
       "  'organizer': 'Konstantin Tzantchev',\n",
       "  'uuid': 'ea2e0494-3a22-4693-85fd-6755bea13a9b',\n",
       "  'likes': 2,\n",
       "  'liked': 0},\n",
       " {'_id': ObjectId('6478229bb3525cc03bbbd73a'),\n",
       "  'title': 'Use Github correctly :)',\n",
       "  'description': 'Guys please stop using old branches and make new ones instead :)))',\n",
       "  'date': 1685491200000.0,\n",
       "  'zip': 90024,\n",
       "  'type': 5,\n",
       "  'organizer': 'Konstantin Tzantchev',\n",
       "  'uuid': 'f54102c3-7d91-43c7-b3d5-96edaf50cb32',\n",
       "  'likes': nan},\n",
       " {'_id': ObjectId('647817dbc7858d9bd4765bff'),\n",
       "  'title': 'Test Event 2',\n",
       "  'description': 'Test event 2',\n",
       "  'date': 1685491200000.0,\n",
       "  'zip': 94588,\n",
       "  'type': 2,\n",
       "  'organizer': 'SEAN TANG',\n",
       "  'uuid': '5bb369ab-b253-42f2-bc3d-7dc5ac4b56ad',\n",
       "  'likes': 4},\n",
       " {'_id': ObjectId('647825d67258c065ffd4195a'),\n",
       "  'title': 'We fixed the dependency problems on the front end',\n",
       "  'description': 'no more \"npm client --force\"',\n",
       "  'date': 1685491200000.0,\n",
       "  'zip': 94588,\n",
       "  'type': 5,\n",
       "  'organizer': 'Sean Tang',\n",
       "  'uuid': '4e9a780e-30a5-4859-9d85-9738bfe888f0',\n",
       "  'likes': 4}]"
      ]
     },
     "execution_count": 25,
     "metadata": {},
     "output_type": "execute_result"
    }
   ],
   "source": [
    "get_past_events('53ee0a27-c4c4-461b-8285-adebdc6df5e3')"
   ]
  }
 ],
 "metadata": {
  "kernelspec": {
   "display_name": "Python 3",
   "language": "python",
   "name": "python3"
  },
  "language_info": {
   "codemirror_mode": {
    "name": "ipython",
    "version": 3
   },
   "file_extension": ".py",
   "mimetype": "text/x-python",
   "name": "python",
   "nbconvert_exporter": "python",
   "pygments_lexer": "ipython3",
   "version": "3.10.4"
  },
  "orig_nbformat": 4
 },
 "nbformat": 4,
 "nbformat_minor": 2
}
