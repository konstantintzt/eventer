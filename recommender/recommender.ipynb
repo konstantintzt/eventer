{
 "cells": [
  {
   "cell_type": "code",
   "execution_count": 9,
   "metadata": {},
   "outputs": [],
   "source": [
    "from sentence_transformers import SentenceTransformer, util\n",
    "import numpy as np"
   ]
  },
  {
   "cell_type": "code",
   "execution_count": 4,
   "metadata": {},
   "outputs": [
    {
     "data": {
      "application/vnd.jupyter.widget-view+json": {
       "model_id": "edb0a1a6cb7b4637ac19ca4ae9799873",
       "version_major": 2,
       "version_minor": 0
      },
      "text/plain": [
       "Downloading (…)e9125/.gitattributes:   0%|          | 0.00/1.18k [00:00<?, ?B/s]"
      ]
     },
     "metadata": {},
     "output_type": "display_data"
    },
    {
     "data": {
      "application/vnd.jupyter.widget-view+json": {
       "model_id": "1c29125e067c46e9a5875ad6b487bfe9",
       "version_major": 2,
       "version_minor": 0
      },
      "text/plain": [
       "Downloading (…)_Pooling/config.json:   0%|          | 0.00/190 [00:00<?, ?B/s]"
      ]
     },
     "metadata": {},
     "output_type": "display_data"
    },
    {
     "data": {
      "application/vnd.jupyter.widget-view+json": {
       "model_id": "f9a23165d72847a18625fc7f13871158",
       "version_major": 2,
       "version_minor": 0
      },
      "text/plain": [
       "Downloading (…)7e55de9125/README.md:   0%|          | 0.00/10.6k [00:00<?, ?B/s]"
      ]
     },
     "metadata": {},
     "output_type": "display_data"
    },
    {
     "data": {
      "application/vnd.jupyter.widget-view+json": {
       "model_id": "760051d5deae4c8e9a85092d8d843719",
       "version_major": 2,
       "version_minor": 0
      },
      "text/plain": [
       "Downloading (…)55de9125/config.json:   0%|          | 0.00/612 [00:00<?, ?B/s]"
      ]
     },
     "metadata": {},
     "output_type": "display_data"
    },
    {
     "data": {
      "application/vnd.jupyter.widget-view+json": {
       "model_id": "fb6f24bbf93547c08f1abd0746ec2a8a",
       "version_major": 2,
       "version_minor": 0
      },
      "text/plain": [
       "Downloading (…)ce_transformers.json:   0%|          | 0.00/116 [00:00<?, ?B/s]"
      ]
     },
     "metadata": {},
     "output_type": "display_data"
    },
    {
     "data": {
      "application/vnd.jupyter.widget-view+json": {
       "model_id": "6fbda96fac3e42b28ac149c5fa578977",
       "version_major": 2,
       "version_minor": 0
      },
      "text/plain": [
       "Downloading (…)125/data_config.json:   0%|          | 0.00/39.3k [00:00<?, ?B/s]"
      ]
     },
     "metadata": {},
     "output_type": "display_data"
    },
    {
     "data": {
      "application/vnd.jupyter.widget-view+json": {
       "model_id": "7c74e063893f414db3a80257587e6e53",
       "version_major": 2,
       "version_minor": 0
      },
      "text/plain": [
       "Downloading pytorch_model.bin:   0%|          | 0.00/90.9M [00:00<?, ?B/s]"
      ]
     },
     "metadata": {},
     "output_type": "display_data"
    },
    {
     "data": {
      "application/vnd.jupyter.widget-view+json": {
       "model_id": "7b96cef74b8843dc9f84010091e5de8e",
       "version_major": 2,
       "version_minor": 0
      },
      "text/plain": [
       "Downloading (…)nce_bert_config.json:   0%|          | 0.00/53.0 [00:00<?, ?B/s]"
      ]
     },
     "metadata": {},
     "output_type": "display_data"
    },
    {
     "data": {
      "application/vnd.jupyter.widget-view+json": {
       "model_id": "d7a1a038aa4d429ba85d823f6ab8f633",
       "version_major": 2,
       "version_minor": 0
      },
      "text/plain": [
       "Downloading (…)cial_tokens_map.json:   0%|          | 0.00/112 [00:00<?, ?B/s]"
      ]
     },
     "metadata": {},
     "output_type": "display_data"
    },
    {
     "data": {
      "application/vnd.jupyter.widget-view+json": {
       "model_id": "ab30dfd5706d4096a5c5f9b08b21b950",
       "version_major": 2,
       "version_minor": 0
      },
      "text/plain": [
       "Downloading (…)e9125/tokenizer.json:   0%|          | 0.00/466k [00:00<?, ?B/s]"
      ]
     },
     "metadata": {},
     "output_type": "display_data"
    },
    {
     "data": {
      "application/vnd.jupyter.widget-view+json": {
       "model_id": "526e0bd6de35497397ba9bf1357fb4c9",
       "version_major": 2,
       "version_minor": 0
      },
      "text/plain": [
       "Downloading (…)okenizer_config.json:   0%|          | 0.00/350 [00:00<?, ?B/s]"
      ]
     },
     "metadata": {},
     "output_type": "display_data"
    },
    {
     "data": {
      "application/vnd.jupyter.widget-view+json": {
       "model_id": "295c406317324a19962fa4d4956e3073",
       "version_major": 2,
       "version_minor": 0
      },
      "text/plain": [
       "Downloading (…)9125/train_script.py:   0%|          | 0.00/13.2k [00:00<?, ?B/s]"
      ]
     },
     "metadata": {},
     "output_type": "display_data"
    },
    {
     "data": {
      "application/vnd.jupyter.widget-view+json": {
       "model_id": "cf77a42e2a004ce8b7fbc3234694dc57",
       "version_major": 2,
       "version_minor": 0
      },
      "text/plain": [
       "Downloading (…)7e55de9125/vocab.txt:   0%|          | 0.00/232k [00:00<?, ?B/s]"
      ]
     },
     "metadata": {},
     "output_type": "display_data"
    },
    {
     "data": {
      "application/vnd.jupyter.widget-view+json": {
       "model_id": "21426f68832c4a50937694efd65b0a74",
       "version_major": 2,
       "version_minor": 0
      },
      "text/plain": [
       "Downloading (…)5de9125/modules.json:   0%|          | 0.00/349 [00:00<?, ?B/s]"
      ]
     },
     "metadata": {},
     "output_type": "display_data"
    }
   ],
   "source": [
    "model = SentenceTransformer('all-MiniLM-L6-v2')"
   ]
  },
  {
   "cell_type": "code",
   "execution_count": 46,
   "metadata": {},
   "outputs": [],
   "source": [
    "from typing import Union, Optional, TypedDict, List\n",
    "class eventType(TypedDict):\n",
    "    date: Optional[int]\n",
    "    organizer: str\n",
    "    zip_code: str\n",
    "    uuid: str\n",
    "    description: str\n",
    "    title: str\n",
    "    type: int\n",
    "eventList = List[eventType]\n",
    "\n",
    "from collections import defaultdict\n",
    "\n",
    "import pgeocode\n",
    "nomi = pgeocode.Nominatim('us')\n",
    "def get_location(zip_code: str):\n",
    "    query = nomi.query_postal_code(str(zip_code))\n",
    "    location = query['place_name'] + ', ' + query['county_name']\n",
    "    return location\n",
    "\n",
    "def compare(item1: str, item2: str):\n",
    "    return util.pytorch_cos_sim(model.encode(item1, convert_to_tensor=True), \n",
    "                                model.encode(item2, convert_to_tensor=True))[0][0]\n",
    "def get_similarity(event1: eventType, event2: eventType):\n",
    "    weights = {\"title\": 1,\n",
    "               \"organizer\": 1,\n",
    "               \"zip_code\": 1,\n",
    "               \"description\": 2,\n",
    "               \"type\": 1}\n",
    "    \n",
    "    event_types = [\"Concert\", \"Play\", \"Movie Screening\", 'Sports game', \"Party\"]\n",
    "    similarity = 0\n",
    "    for item in weights.keys():\n",
    "        if item == \"type\": \n",
    "            similarity += compare(event_types[event1[\"type\"]-1], event_types[event2[\"type\"]-1]) * weights[item]\n",
    "        \n",
    "        elif item == \"zip_code\":\n",
    "            query = nomi.query_postal_code(str(event1[item]))\n",
    "            location = query['place_name'] + ', ' + query['county_name']\n",
    "            similarity += compare(get_location(event1[item]), get_location(event2[item])) * weights[item]\n",
    "        else: similarity += compare(event1[item], event2[item]) * weights[item]\n",
    "    return similarity\n",
    "\n",
    "def get_scores(history: eventList, available: eventList):\n",
    "    scores = defaultdict(lambda: 0)\n",
    "    for available_event in available:\n",
    "        for history_event in history:\n",
    "            scores[available_event[\"uuid\"]] += get_similarity(available_event, history_event)\n",
    "    return scores"
   ]
  },
  {
   "cell_type": "code",
   "execution_count": 48,
   "metadata": {},
   "outputs": [
    {
     "data": {
      "text/plain": [
       "defaultdict(<function __main__.get_scores.<locals>.<lambda>()>,\n",
       "            {'5678': tensor(4.8891),\n",
       "             '9101': tensor(5.1819),\n",
       "             '1121': tensor(4.4514),\n",
       "             '3141': tensor(5.5860),\n",
       "             '5002': tensor(6.5974)})"
      ]
     },
     "execution_count": 48,
     "metadata": {},
     "output_type": "execute_result"
    }
   ],
   "source": [
    "attended_events = [{\"date\": 1685476378,\n",
    "\"organizer\": \"Weed Wade\",\n",
    "\"zip_code\": \"90024\",\n",
    "\"uuid\": \"1234\",\n",
    "\"description\": \"The best concert ever\",\n",
    "\"title\": \"Westwood Concert\",\n",
    "\"type\": 1},\n",
    "{\"date\": 1685821978,\n",
    "\"organizer\": \"Joe Bruin\",\n",
    "\"zip_code\": \"90066\",\n",
    "\"uuid\": \"3000\",\n",
    "\"description\": \"A massive party to celebrate the end of the midterm season.\",\n",
    "\"title\": \"UCLA Midterm Party\",\n",
    "\"type\": 5}]\n",
    "\n",
    "available_events = [{\"date\": 1685562778,\n",
    "\"organizer\": \"Sally Smith\",\n",
    "\"zip_code\": \"90210\",\n",
    "\"uuid\": \"5678\",\n",
    "\"description\": \"A fun-filled day of games and activities\",\n",
    "\"title\": \"Beverly Hills Family Fun Day\",\n",
    "\"type\": 5},\n",
    "{\"date\": 1685649178,\n",
    "\"organizer\": \"John Doe\",\n",
    "\"zip_code\": \"90046\",\n",
    "\"uuid\": \"9101\",\n",
    "\"description\": \"A night of laughter and entertainment\",\n",
    "\"title\": \"Hollywood Comedy Night\",\n",
    "\"type\": 3},\n",
    "{\"date\": 1685735578,\n",
    "\"organizer\": \"Jane Johnson\",\n",
    "\"zip_code\": \"90028\",\n",
    "\"uuid\": \"1121\",\n",
    "\"description\": \"A gathering of local artists and their work\",\n",
    "\"title\": \"Downtown Art Walk\",\n",
    "\"type\": 2},\n",
    "{\"date\": 1685821978,\n",
    "\"organizer\": \"Mike Miller\",\n",
    "\"zip_code\": \"90066\",\n",
    "\"uuid\": \"3141\",\n",
    "\"description\": \"A charity event to raise funds for a local cause\",\n",
    "\"title\": \"Mar Vista Charity Gala\",\n",
    "\"type\": 5},\n",
    "{\"date\": 1685821978,\n",
    "\"organizer\": \"Honduras Hernandez\",\n",
    "\"zip_code\": \"90066\",\n",
    "\"uuid\": \"5002\",\n",
    "\"description\": \"A music festival to ring in the new year.\",\n",
    "\"title\": \"New Year's Jazz Festival\",\n",
    "\"type\": 1},\n",
    "]\n",
    "\n",
    "get_scores(attended_events, available_events)"
   ]
  },
  {
   "cell_type": "code",
   "execution_count": 13,
   "metadata": {},
   "outputs": [
    {
     "name": "stdout",
     "output_type": "stream",
     "text": [
      "tensor([[0.4335]])\n"
     ]
    }
   ],
   "source": [
    "sentence1 = \"Party with us!\"\n",
    "sentence2 = \"Come drink beer with me\"\n",
    "# encode sentences to get their embeddings\n",
    "embedding1 = model.encode(sentence1, convert_to_tensor=True)\n",
    "embedding2 = model.encode(sentence2, convert_to_tensor=True)\n",
    "# compute similarity scores of two embeddings\n",
    "cosine_scores = util.pytorch_cos_sim(embedding1, embedding2)\n",
    "print(cosine_scores)"
   ]
  },
  {
   "cell_type": "code",
   "execution_count": 8,
   "metadata": {},
   "outputs": [
    {
     "data": {
      "text/plain": [
       "tensor([[0.7577]])"
      ]
     },
     "execution_count": 8,
     "metadata": {},
     "output_type": "execute_result"
    }
   ],
   "source": [
    "cosine_scores"
   ]
  },
  {
   "cell_type": "code",
   "execution_count": null,
   "metadata": {},
   "outputs": [],
   "source": [
    "sentences1 = [\"I like Python because I can build AI applications\", \"The cat sits on the ground\"]   \n",
    "sentences2 = [\"I like Python because I can do data analytics\", \"The cat walks on the sidewalk\"]\n",
    "# encode list of sentences to get their embeddings\n",
    "embedding1 = model.encode(sentences1, convert_to_tensor=True)\n",
    "embedding2 = model.encode(sentences2, convert_to_tensor=True)\n",
    "# compute similarity scores of two embeddings\n",
    "cosine_scores = util.pytorch_cos_sim(embedding1, embedding2)\n",
    "for i in range(len(sentences1)):\n",
    "    for j in range(len(sentences2)):\n",
    "        print(\"Sentence 1:\", sentences1[i])\n",
    "        print(\"Sentence 2:\", sentences2[j])\n",
    "        print(\"Similarity Score:\", cosine_scores[i][j].item())\n",
    "        print()"
   ]
  }
 ],
 "metadata": {
  "kernelspec": {
   "display_name": "Python 3",
   "language": "python",
   "name": "python3"
  },
  "language_info": {
   "codemirror_mode": {
    "name": "ipython",
    "version": 3
   },
   "file_extension": ".py",
   "mimetype": "text/x-python",
   "name": "python",
   "nbconvert_exporter": "python",
   "pygments_lexer": "ipython3",
   "version": "3.10.4"
  },
  "orig_nbformat": 4
 },
 "nbformat": 4,
 "nbformat_minor": 2
}
